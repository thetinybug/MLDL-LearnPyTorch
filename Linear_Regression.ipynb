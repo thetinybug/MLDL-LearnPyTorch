{
  "nbformat": 4,
  "nbformat_minor": 0,
  "metadata": {
    "colab": {
      "name": "Linear Regression",
      "provenance": [],
      "collapsed_sections": [
        "NlkdiReAV6du"
      ],
      "authorship_tag": "ABX9TyOWy1xzBqn+vvyQjCv++jm/",
      "include_colab_link": true
    },
    "kernelspec": {
      "name": "python3",
      "display_name": "Python 3"
    }
  },
  "cells": [
    {
      "cell_type": "markdown",
      "metadata": {
        "id": "view-in-github",
        "colab_type": "text"
      },
      "source": [
        "<a href=\"https://colab.research.google.com/github/thetinybug/MLDL-LearnPyTorch/blob/master/Linear_Regression.ipynb\" target=\"_parent\"><img src=\"https://colab.research.google.com/assets/colab-badge.svg\" alt=\"Open In Colab\"/></a>"
      ]
    },
    {
      "cell_type": "markdown",
      "metadata": {
        "id": "W-40kIJQdDKg",
        "colab_type": "text"
      },
      "source": [
        "# **Linear Regression**\n",
        "Triển khai ví dụ về Regression với Pytorch\n",
        "* **Ví dụ**: Giả sử chúng ta có một công ty ô tô. Nếu giá xe xuống thấp, chúng ta sẽ bán được nhiều xe hơn. Nếu giá xe tăng cao, ta bán được ít xe hơn. Đây là thực tế mà chúng ta biết và chúng ta có dữ liệu về điều này.  \n",
        "* **Câu hỏi đặt ra là**: Làm sao để ước lượng được số xe ta sẽ bán được khi mà giá xe là 100?"
      ]
    },
    {
      "cell_type": "code",
      "metadata": {
        "id": "EJDGENirSKDi",
        "colab_type": "code",
        "colab": {}
      },
      "source": [
        "# Import thư viện\n",
        "\n",
        "import numpy as np\n",
        "import torch\n",
        "from torch.autograd import Variable"
      ],
      "execution_count": 0,
      "outputs": []
    },
    {
      "cell_type": "markdown",
      "metadata": {
        "id": "or3cYf0LbSfv",
        "colab_type": "text"
      },
      "source": [
        "# **0. Khởi tạo dữ liệu**"
      ]
    },
    {
      "cell_type": "code",
      "metadata": {
        "id": "3Yg_Bph2SDUs",
        "colab_type": "code",
        "outputId": "7326b9b8-e530-43c4-9afb-3a0e8868a576",
        "colab": {
          "base_uri": "https://localhost:8080/",
          "height": 295
        }
      },
      "source": [
        "# As a car company we collect this data from previous selling\n",
        "# lets define car prices\n",
        "car_prices_array = [3,4,5,6,7,8,9]\n",
        "car_price_np = np.array(car_prices_array,dtype=np.float32)\n",
        "car_price_np = car_price_np.reshape(-1,1)\n",
        "car_price_tensor = Variable(torch.from_numpy(car_price_np))\n",
        "\n",
        "# lets define number of car sell\n",
        "number_of_car_sell_array = [ 7.5, 7, 6.5, 6.0, 5.5, 5.0, 4.5]\n",
        "number_of_car_sell_np = np.array(number_of_car_sell_array,dtype=np.float32)\n",
        "number_of_car_sell_np = number_of_car_sell_np.reshape(-1,1)\n",
        "number_of_car_sell_tensor = Variable(torch.from_numpy(number_of_car_sell_np))\n",
        "\n",
        "# lets visualize our data\n",
        "import matplotlib.pyplot as plt\n",
        "plt.scatter(car_prices_array,number_of_car_sell_array)\n",
        "plt.xlabel(\"Car Price $\")\n",
        "plt.ylabel(\"Number of Car Sell\")\n",
        "plt.title(\"Car Price$ VS Number of Car Sell\")\n",
        "plt.show()"
      ],
      "execution_count": 2,
      "outputs": [
        {
          "output_type": "display_data",
          "data": {
            "image/png": "[encoded data removed]",
            "text/plain": [
              "<Figure size 432x288 with 1 Axes>"
            ]
          },
          "metadata": {
            "tags": [],
            "needs_background": "light"
          }
        }
      ]
    },
    {
      "cell_type": "markdown",
      "metadata": {
        "id": "NlkdiReAV6du",
        "colab_type": "text"
      },
      "source": [
        "# **1. Triển khai mô hình Lenear Regression**"
      ]
    },
    {
      "cell_type": "code",
      "metadata": {
        "id": "tmIyeiksV5PG",
        "colab_type": "code",
        "outputId": "1171de0b-7ec5-4fd8-9039-c1f7ec8cbc3e",
        "colab": {
          "base_uri": "https://localhost:8080/",
          "height": 638
        }
      },
      "source": [
        "# Linear Regression with Pytorch\n",
        "\n",
        "# libraries\n",
        "import torch      \n",
        "from torch.autograd import Variable     \n",
        "import torch.nn as nn \n",
        "import warnings\n",
        "warnings.filterwarnings(\"ignore\")\n",
        "\n",
        "# create class\n",
        "class LinearRegression(nn.Module):\n",
        "    def __init__(self,input_size,output_size):\n",
        "        # super function. It inherits from nn.Module and we can access everything in nn.Module\n",
        "        super(LinearRegression,self).__init__()\n",
        "        # Linear function.\n",
        "        self.linear = nn.Linear(input_dim,output_dim)\n",
        "\n",
        "    def forward(self,x):\n",
        "        return self.linear(x)\n",
        "    \n",
        "# define model\n",
        "input_dim = 1\n",
        "output_dim = 1\n",
        "model = LinearRegression(input_dim,output_dim) # input and output size are 1\n",
        "\n",
        "# MSE\n",
        "mse = nn.MSELoss()\n",
        "\n",
        "# Optimization (find parameters that minimize error)\n",
        "learning_rate = 0.02   # how fast we reach best parameters\n",
        "optimizer = torch.optim.SGD(model.parameters(),lr = learning_rate)\n",
        "\n",
        "# train model\n",
        "loss_list = []\n",
        "iteration_number = 1001\n",
        "for iteration in range(iteration_number):\n",
        "        \n",
        "    # optimization\n",
        "    optimizer.zero_grad() \n",
        "    \n",
        "    # Forward to get output\n",
        "    results = model(car_price_tensor)\n",
        "    \n",
        "    # Calculate Loss\n",
        "    loss = mse(results, number_of_car_sell_tensor)\n",
        "    \n",
        "    # backward propagation\n",
        "    loss.backward()\n",
        "    \n",
        "    # Updating parameters\n",
        "    optimizer.step()\n",
        "    \n",
        "    # store loss\n",
        "    loss_list.append(loss.data)\n",
        "    \n",
        "    # print loss\n",
        "    if(iteration % 50 == 0):\n",
        "        print('epoch {}, loss {}'.format(iteration, loss.data))\n",
        "\n",
        "plt.plot(range(iteration_number),loss_list)\n",
        "plt.xlabel(\"Number of Iterations\")\n",
        "plt.ylabel(\"Loss\")\n",
        "plt.show()"
      ],
      "execution_count": 3,
      "outputs": [
        {
          "output_type": "stream",
          "text": [
            "epoch 0, loss 13.487879753112793\n",
            "epoch 50, loss 4.2745256423950195\n",
            "epoch 100, loss 2.8884761333465576\n",
            "epoch 150, loss 1.951864242553711\n",
            "epoch 200, loss 1.3189573287963867\n",
            "epoch 250, loss 0.8912749886512756\n",
            "epoch 300, loss 0.6022725105285645\n",
            "epoch 350, loss 0.4069812595844269\n",
            "epoch 400, loss 0.27501437067985535\n",
            "epoch 450, loss 0.18583893775939941\n",
            "epoch 500, loss 0.12557916343212128\n",
            "epoch 550, loss 0.08485918492078781\n",
            "epoch 600, loss 0.05734293907880783\n",
            "epoch 650, loss 0.03874907270073891\n",
            "epoch 700, loss 0.02618446573615074\n",
            "epoch 750, loss 0.01769408956170082\n",
            "epoch 800, loss 0.011956657283008099\n",
            "epoch 850, loss 0.008079656399786472\n",
            "epoch 900, loss 0.005459788255393505\n",
            "epoch 950, loss 0.0036893978249281645\n",
            "epoch 1000, loss 0.0024929556529968977\n"
          ],
          "name": "stdout"
        },
        {
          "output_type": "display_data",
          "data": {
            "image/png": "[encoded data removed]",
            "text/plain": [
              "<Figure size 432x288 with 1 Axes>"
            ]
          },
          "metadata": {
            "tags": [],
            "needs_background": "light"
          }
        }
      ]
    },
    {
      "cell_type": "markdown",
      "metadata": {
        "id": "T9e_651Pakg8",
        "colab_type": "text"
      },
      "source": [
        "# **2. Sử dụng Model**"
      ]
    },
    {
      "cell_type": "code",
      "metadata": {
        "id": "WSrhd5mHarNj",
        "colab_type": "code",
        "outputId": "4f965e9f-cdf0-442f-b443-c5ca1c3b516a",
        "colab": {
          "base_uri": "https://localhost:8080/",
          "height": 295
        }
      },
      "source": [
        "# predict our car price \n",
        "predicted = model(car_price_tensor).data.numpy()\n",
        "plt.scatter(car_prices_array,number_of_car_sell_array,label = \"original data\",color =\"red\")\n",
        "plt.scatter(car_prices_array,predicted,label = \"predicted data\",color =\"blue\")\n",
        "\n",
        "# predict if car price is 10$, what will be the number of car sell\n",
        "predicted_10 = model(torch.from_numpy(np.array([10.0], dtype=np.float32))).data.numpy()\n",
        "plt.scatter(10,predicted_10.data,label = \"car price 10$\",color =\"green\")\n",
        "\n",
        "plt.legend()\n",
        "plt.xlabel(\"Car Price $\")\n",
        "plt.ylabel(\"Number of Car Sell\")\n",
        "plt.title(\"Original vs Predicted values\")\n",
        "plt.show()"
      ],
      "execution_count": 4,
      "outputs": [
        {
          "output_type": "display_data",
          "data": {
            "image/png": "[encoded data removed]",
            "text/plain": [
              "<Figure size 432x288 with 1 Axes>"
            ]
          },
          "metadata": {
            "tags": [],
            "needs_background": "light"
          }
        }
      ]
    }
  ]
}