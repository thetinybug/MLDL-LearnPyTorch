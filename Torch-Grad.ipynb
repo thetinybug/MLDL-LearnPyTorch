{
  "nbformat": 4,
  "nbformat_minor": 0,
  "metadata": {
    "colab": {
      "name": "Run Command NoteBook",
      "provenance": [],
      "collapsed_sections": [],
      "authorship_tag": "ABX9TyMZxqSIBfVcaoIoRseVVbdY",
      "include_colab_link": true
    },
    "kernelspec": {
      "name": "python3",
      "display_name": "Python 3"
    }
  },
  "cells": [
    {
      "cell_type": "markdown",
      "metadata": {
        "id": "view-in-github",
        "colab_type": "text"
      },
      "source": [
        "<a href=\"https://colab.research.google.com/github/thetinybug/MLDL-LearnPyTorch/blob/master/Torch-Grad.ipynb\" target=\"_parent\"><img src=\"https://colab.research.google.com/assets/colab-badge.svg\" alt=\"Open In Colab\"/></a>"
      ]
    },
    {
      "cell_type": "markdown",
      "metadata": {
        "id": "9o-gZ32SLOlI",
        "colab_type": "text"
      },
      "source": [
        "# **Grad trong PyTorch**\n",
        "Grad trong PyTorch có thể hiểu là dùng để tính giá trị đạo hàm.  \n",
        "Các ví dụ dưới đây sẽ làm rõ hơn về chức năng của grad"
      ]
    },
    {
      "cell_type": "markdown",
      "metadata": {
        "id": "YK84xbejLmJt",
        "colab_type": "text"
      },
      "source": [
        "## **1. Ví dụ 1**"
      ]
    },
    {
      "cell_type": "code",
      "metadata": {
        "id": "YNkboZ3z-Yxf",
        "colab_type": "code",
        "colab": {
          "base_uri": "https://localhost:8080/",
          "height": 68
        },
        "outputId": "af0bf013-e9d7-47fa-8b06-53dfd5498309"
      },
      "source": [
        "# lets make basic backward propagation\n",
        "# we have an equation that is y = x^2\n",
        "array = [2,4]\n",
        "tensor = torch.Tensor(array)\n",
        "x = Variable(tensor, requires_grad = True)\n",
        "y = x**2\n",
        "# y = Variable(y, requires_grad = True)          # (1)\n",
        "print(\" y =  \",y)\n",
        "\n",
        "# recap o equation o = 1/2*sum(y)\n",
        "o = (1/2)*sum(y)\n",
        "print(\" o =  \",o)\n",
        "\n",
        "# backward\n",
        "o.backward() # calculates gradients\n",
        "\n",
        "# As I defined, variables accumulates gradients. In this part there is only one variable x.\n",
        "# Therefore variable x should be have gradients\n",
        "# Lets look at gradients with x.grad\n",
        "print(\"gradients: \",x.grad)                   #(2)\n",
        "# print(\"gradients: \",y.grad)                   #(3)"
      ],
      "execution_count": 23,
      "outputs": [
        {
          "output_type": "stream",
          "text": [
            " y =   tensor([ 4., 16.], grad_fn=<PowBackward0>)\n",
            " o =   tensor(10., grad_fn=<MulBackward0>)\n",
            "gradients:  tensor([2., 4.])\n"
          ],
          "name": "stdout"
        }
      ]
    },
    {
      "cell_type": "markdown",
      "metadata": {
        "id": "NZR4t82HLz5C",
        "colab_type": "text"
      },
      "source": [
        "### **NHẬN XÉT**\n",
        "\n",
        "* Chúng ta có thể thấy giá trị thu được là [2,4] chính là x. Do đạo hàm của o theo x = x.  \n",
        "*    Cùng ví dụ này, để hiểu rõ hơn, chúng ta có thể tính đạo hàm của o theo y bằng cách: Bỏ comment ***(1), (3)*** và comment ***(2)***\n",
        "\n",
        "\n",
        "\n",
        "\n"
      ]
    },
    {
      "cell_type": "markdown",
      "metadata": {
        "id": "fjkvP75VOFI8",
        "colab_type": "text"
      },
      "source": [
        "##**2. Ví dụ 2**"
      ]
    },
    {
      "cell_type": "code",
      "metadata": {
        "id": "5jLUwkvRHgkd",
        "colab_type": "code",
        "colab": {
          "base_uri": "https://localhost:8080/",
          "height": 102
        },
        "outputId": "e4ca41e5-c7dd-408e-cad6-b7ad9c942391"
      },
      "source": [
        "import torch\n",
        "\n",
        "dtype = torch.float\n",
        "device = torch.device(\"cpu\")\n",
        "# device = torch.device(\"cuda:0\") # Uncomment this to run on GPU\n",
        "\n",
        "# N is batch size; D_in is input dimension;\n",
        "# H is hidden dimension; D_out is output dimension.\n",
        "N, D_in, H, D_out = 64, 1000, 100, 10\n",
        "\n",
        "# Create random Tensors to hold input and outputs.\n",
        "# Setting requires_grad=False indicates that we do not need to compute gradients\n",
        "# with respect to these Tensors during the backward pass.\n",
        "x = torch.randn(N, D_in, device=device, dtype=dtype)\n",
        "y = torch.randn(N, D_out, device=device, dtype=dtype)\n",
        "\n",
        "# Create random Tensors for weights.\n",
        "# Setting requires_grad=True indicates that we want to compute gradients with\n",
        "# respect to these Tensors during the backward pass.\n",
        "w1 = torch.randn(D_in, H, device=device, dtype=dtype, requires_grad=True)\n",
        "w2 = torch.randn(H, D_out, device=device, dtype=dtype, requires_grad=True)\n",
        "\n",
        "learning_rate = 1e-6\n",
        "for t in range(500):\n",
        "    # Forward pass: compute predicted y using operations on Tensors; these\n",
        "    # are exactly the same operations we used to compute the forward pass using\n",
        "    # Tensors, but we do not need to keep references to intermediate values since\n",
        "    # we are not implementing the backward pass by hand.\n",
        "    y_pred = x.mm(w1).clamp(min=0).mm(w2)\n",
        "\n",
        "    # Compute and print loss using operations on Tensors.\n",
        "    # Now loss is a Tensor of shape (1,)\n",
        "    # loss.item() gets the scalar value held in the loss.\n",
        "    loss = (y_pred - y).pow(2).sum()\n",
        "    if t % 100 == 99:\n",
        "        print(f\"Loss of Epoch %d: \\t%f3\"%(t, loss.item()))\n",
        "\n",
        "    # Use autograd to compute the backward pass. This call will compute the\n",
        "    # gradient of loss with respect to all Tensors with requires_grad=True.\n",
        "    # After this call w1.grad and w2.grad will be Tensors holding the gradient\n",
        "    # of the loss with respect to w1 and w2 respectively.\n",
        "    loss.backward()\n",
        "\n",
        "    # Manually update weights using gradient descent. Wrap in torch.no_grad()\n",
        "    # because weights have requires_grad=True, but we don't need to track this\n",
        "    # in autograd.\n",
        "    # An alternative way is to operate on weight.data and weight.grad.data.\n",
        "    # Recall that tensor.data gives a tensor that shares the storage with\n",
        "    # tensor, but doesn't track history.\n",
        "    # You can also use torch.optim.SGD to achieve this.\n",
        "    with torch.no_grad():\n",
        "        w1 -= learning_rate * w1.grad\n",
        "        w2 -= learning_rate * w2.grad\n",
        "\n",
        "        # Manually zero the gradients after updating weights\n",
        "        # Xóa giá trị grad bằng cách gán = 0.\n",
        "        w1.grad.zero_()\n",
        "        w2.grad.zero_()\n"
      ],
      "execution_count": 21,
      "outputs": [
        {
          "output_type": "stream",
          "text": [
            "Loss of Epoch 99: \t1047.2076423\n",
            "Loss of Epoch 199: \t10.9226693\n",
            "Loss of Epoch 299: \t0.1931073\n",
            "Loss of Epoch 399: \t0.0044343\n",
            "Loss of Epoch 499: \t0.0003043\n"
          ],
          "name": "stdout"
        }
      ]
    },
    {
      "cell_type": "markdown",
      "metadata": {
        "id": "1z2mwPY6OgPD",
        "colab_type": "text"
      },
      "source": [
        "###**Nhận xét**\n",
        "\n",
        "\n",
        "* w1.grad, w2.grad là các đạo hàm tương ứng với w1, w2 của hàm loss.\n",
        "* w1.grad.zero_() là để xóa bỏ giá trị grad (make sure không ảnh hưởng tới lần sau. Chi tiết tham khảo câu trả lời của [samarth-robo](https://discuss.pytorch.org/t/why-do-we-need-to-set-the-gradients-manually-to-zero-in-pytorch/4903/3)). Bằng cách gán tất cả giá trị thành 0.\n",
        "\n"
      ]
    }
  ]
}